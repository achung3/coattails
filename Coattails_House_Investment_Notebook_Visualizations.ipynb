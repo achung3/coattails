{
 "cells": [
  {
   "cell_type": "markdown",
   "id": "439944ef",
   "metadata": {},
   "source": [
    "# HOUSE INVESTMENTS VISUALIZATIONS"
   ]
  },
  {
   "cell_type": "raw",
   "id": "8a786c0d",
   "metadata": {},
   "source": [
    "Visualizations script notebook form\n",
    "\n",
    "Notes: \n",
    "un-comment the installations if needed\n",
    "replace csv export paths\n",
    "\n",
    "Visualize in notebook output *not wrapped in function"
   ]
  },
  {
   "cell_type": "code",
   "execution_count": 49,
   "id": "0299dedc",
   "metadata": {},
   "outputs": [],
   "source": [
    "#!pip install plotly\n",
    "#!pip install chart_studio\n",
    "#pip3 install numpy\n",
    "#!pip install plotly\n",
    "#!pip install chart_studio\n",
    "#!pip install pandas_datareader\n",
    "#!pip install jupyter-dash\n",
    "#!pip install yfinance\n",
    "#!pip install yahoofinancials\n",
    "#!pip install dash\n",
    "import plotly.express as px\n",
    "import chart_studio.plotly as py\n",
    "import plotly.graph_objects as go\n",
    "import pandas_datareader.data as web\n",
    "import pandas as pd\n",
    "import numpy as np\n",
    "from IPython.display import HTML as html_print"
   ]
  },
  {
   "cell_type": "code",
   "execution_count": 50,
   "id": "35a3b0b2",
   "metadata": {},
   "outputs": [],
   "source": [
    "#import/read these files\n",
    "#To be imported as dfhg and value counted into my_dict -> for House Investment Statements\n",
    "dfhg = pd.read_csv(\"profitable_house_assets.csv\")\n",
    "#TO BE imported and USED FOR px.bar figure\n",
    "dfhgcc = pd.read_csv(\"house_Good_Investments_Sorted.csv\")\n",
    "#call the data frame not printed so it retains the correct organization of rows columns"
   ]
  },
  {
   "cell_type": "code",
   "execution_count": 51,
   "id": "ca6f528f",
   "metadata": {
    "scrolled": true
   },
   "outputs": [
    {
     "data": {
      "text/plain": [
       "ticker  asset_description       \n",
       "AMZN    Amazon.com Inc              4\n",
       "V       Visa Inc                    4\n",
       "IFNNY   Infineon Technologies AG    4\n",
       "HDS     HD Supply Holdings          4\n",
       "BLL     Ball Corporation            3\n",
       "                                   ..\n",
       "FANUY   Fanuc Corp ADR              1\n",
       "FANG    Diamondback Energy Inc      1\n",
       "F       Ford Motor Company          1\n",
       "EXPE    Expedia Group Inc           1\n",
       "ZUO     Zuora, Inc. Class A         1\n",
       "Length: 371, dtype: int64"
      ]
     },
     "execution_count": 51,
     "metadata": {},
     "output_type": "execute_result"
    }
   ],
   "source": [
    "#counts frequency of asset within the list\n",
    "dfhg.value_counts(subset=None, sort=True, ascending=False, dropna=True)"
   ]
  },
  {
   "cell_type": "code",
   "execution_count": 52,
   "id": "3b88ca9f",
   "metadata": {
    "scrolled": true
   },
   "outputs": [
    {
     "data": {
      "text/plain": [
       "{'COLD': 2,\n",
       " 'SEP': 1,\n",
       " 'DXCM': 2,\n",
       " 'HD': 3,\n",
       " 'ICUI': 2,\n",
       " 'IFNNY': 6,\n",
       " 'PHR': 2,\n",
       " 'SITE': 2,\n",
       " 'VCYT': 3,\n",
       " 'AMZN': 7,\n",
       " 'DOMO': 1,\n",
       " 'DIS': 2,\n",
       " 'GOOGL': 4,\n",
       " 'GOOG': 5,\n",
       " 'AMGN': 3,\n",
       " 'AAPL': 5,\n",
       " 'CFG': 2,\n",
       " 'INTC': 3,\n",
       " 'INTL': 1,\n",
       " 'LMT': 1,\n",
       " 'MU': 1,\n",
       " 'PYPL': 3,\n",
       " 'QCOM': 2,\n",
       " 'SBUX': 2,\n",
       " 'TMUS': 1,\n",
       " 'ROP': 2,\n",
       " 'INFO': 2,\n",
       " 'GO': 1,\n",
       " 'FISV': 2,\n",
       " 'ECL': 2,\n",
       " 'DELL': 1,\n",
       " 'CHNG': 1,\n",
       " 'CDW': 1,\n",
       " 'CACI': 2,\n",
       " 'BLL': 3,\n",
       " 'ABT': 1,\n",
       " 'ABBV': 1,\n",
       " 'ACHC': 1,\n",
       " 'ATVI': 1,\n",
       " 'ADDDYY': 1,\n",
       " 'ADBE': 2,\n",
       " 'AMD': 1,\n",
       " 'ADYEY': 1,\n",
       " 'A': 1,\n",
       " 'AAGIY': 2,\n",
       " 'AL': 1,\n",
       " 'ALC': 1,\n",
       " 'ALFVY': 1,\n",
       " 'ADS': 1,\n",
       " 'ALIZY': 1,\n",
       " 'ABEV': 1,\n",
       " 'AMT': 1,\n",
       " 'AWK': 1,\n",
       " 'ANTM': 1,\n",
       " 'AON': 1,\n",
       " 'T': 1,\n",
       " 'ATH': 1,\n",
       " 'ATLKY': 1,\n",
       " 'BAC': 2,\n",
       " 'BAX': 1,\n",
       " 'BRK.B': 3,\n",
       " 'BBY': 1,\n",
       " 'BIIB': 2,\n",
       " 'BA': 1,\n",
       " 'BSX': 1,\n",
       " 'AVGO': 1,\n",
       " 'CDNS': 1,\n",
       " 'CNI': 1,\n",
       " 'CCL': 1,\n",
       " 'CAT': 1,\n",
       " 'SCHW': 1,\n",
       " 'CHTR': 2,\n",
       " 'CHKP': 1,\n",
       " 'CHGCY': 1,\n",
       " 'CI': 1,\n",
       " 'XEC': 1,\n",
       " 'CTAS': 1,\n",
       " 'CMS': 2,\n",
       " 'CMCSA': 1,\n",
       " 'CLGX': 1,\n",
       " 'COST': 2,\n",
       " 'CCK': 1,\n",
       " 'DHR': 1,\n",
       " 'DASTY': 2,\n",
       " 'DBSDY': 1,\n",
       " 'DEO': 1,\n",
       " 'FANG': 1,\n",
       " 'DFS': 1,\n",
       " 'DG': 1,\n",
       " 'DXC': 1,\n",
       " 'EMN': 1,\n",
       " 'ETN': 1,\n",
       " 'EW': 2,\n",
       " 'EMR': 1,\n",
       " 'EHC': 1,\n",
       " 'EPOKY': 1,\n",
       " 'EQIX': 1,\n",
       " 'EXPE': 1,\n",
       " 'XOM': 1,\n",
       " 'FB': 3,\n",
       " 'FANUY': 1,\n",
       " 'FDX': 2,\n",
       " 'FITB': 1,\n",
       " 'BEN': 1,\n",
       " 'FUPBY': 1,\n",
       " 'GLPI': 1,\n",
       " 'GPN': 1,\n",
       " 'HDB': 1,\n",
       " 'HSIC': 1,\n",
       " 'HRC': 1,\n",
       " 'HSBC': 1,\n",
       " 'HUN': 1,\n",
       " 'IBN': 1,\n",
       " 'IDXXX': 1,\n",
       " 'PODD': 1,\n",
       " 'IBM': 2,\n",
       " 'ISRG': 1,\n",
       " 'ITUB': 1,\n",
       " 'JBL': 1,\n",
       " 'JNJ': 2,\n",
       " 'JPM': 1,\n",
       " 'KKR': 1,\n",
       " 'KMTUY': 1,\n",
       " 'KUBTY': 1,\n",
       " 'AIQUY': 1,\n",
       " 'LYV': 1,\n",
       " 'LZAGY': 2,\n",
       " 'LRLCY': 1,\n",
       " 'LOW': 1,\n",
       " 'LULU': 1,\n",
       " 'LYB': 1,\n",
       " 'MMC': 1,\n",
       " 'MA': 3,\n",
       " 'MTCH': 1,\n",
       " 'MCHP': 1,\n",
       " 'MSFT': 4,\n",
       " 'MS': 1,\n",
       " 'MOS': 1,\n",
       " 'MSI': 2,\n",
       " 'MSCI': 1,\n",
       " 'NSRGY': 2,\n",
       " 'NTAP': 1,\n",
       " 'NFLX': 1,\n",
       " 'NYT': 1,\n",
       " 'NEM': 2,\n",
       " 'NEE': 1,\n",
       " 'NKE': 1,\n",
       " 'NCLTY': 1,\n",
       " 'NOC': 2,\n",
       " 'NVZMY': 1,\n",
       " 'NUE': 1,\n",
       " 'NVDA': 2,\n",
       " 'NVR': 1,\n",
       " 'OKTA': 1,\n",
       " 'OMF': 1,\n",
       " 'OKE': 2,\n",
       " 'ORCL': 1,\n",
       " 'ORLY': 1,\n",
       " 'PH': 1,\n",
       " 'PEP': 1,\n",
       " 'PFE': 1,\n",
       " 'PSX': 1,\n",
       " 'PNGAY': 1,\n",
       " 'PNC': 1,\n",
       " 'PG': 3,\n",
       " 'PLD': 1,\n",
       " 'RMD': 1,\n",
       " 'RIO': 2,\n",
       " 'RHHBY': 2,\n",
       " 'ROK': 1,\n",
       " 'SPGI': 2,\n",
       " 'SC': 1,\n",
       " 'SAP': 2,\n",
       " 'SLB': 1,\n",
       " 'SBGSY': 1,\n",
       " 'SEE': 1,\n",
       " 'ST': 1,\n",
       " 'SGSOY': 2,\n",
       " 'SNAP': 1,\n",
       " 'SONVY': 1,\n",
       " 'STT': 2,\n",
       " 'SIVB': 1,\n",
       " 'SYIEY': 1,\n",
       " 'SYF': 1,\n",
       " 'SNPS': 1,\n",
       " 'SSMXY': 2,\n",
       " 'TSM': 4,\n",
       " 'TGT': 1,\n",
       " 'TCEHY': 1,\n",
       " 'TSLA': 3,\n",
       " 'TMO': 1,\n",
       " 'TOL': 1,\n",
       " 'TRU': 1,\n",
       " 'TFC': 2,\n",
       " 'USB': 2,\n",
       " 'UBER': 1,\n",
       " 'UNICY': 1,\n",
       " 'UL': 1,\n",
       " 'UNP': 1,\n",
       " 'UPS': 1,\n",
       " 'UNH': 2,\n",
       " 'UNVR': 1,\n",
       " 'VRSK': 1,\n",
       " 'VTRS': 1,\n",
       " 'V': 5,\n",
       " 'VMC': 1,\n",
       " 'WBA': 1,\n",
       " 'WMT': 5,\n",
       " 'WLK': 1,\n",
       " 'WMB': 1,\n",
       " 'WYND': 1,\n",
       " 'WH': 1,\n",
       " 'YNDX': 1,\n",
       " 'ZG': 1,\n",
       " 'Z': 1,\n",
       " 'ZTS': 1,\n",
       " 'FNRVGX': 1,\n",
       " 'HII': 1,\n",
       " 'NGLS': 1,\n",
       " 'HAE': 1,\n",
       " 'DKNG': 2,\n",
       " 'KTOS': 4,\n",
       " 'SPCE': 4,\n",
       " '--': 1,\n",
       " 'BXS': 3,\n",
       " 'ADDYY': 1,\n",
       " 'APD': 1,\n",
       " 'BABA': 3,\n",
       " 'BPHSPX': 1,\n",
       " 'CLX': 1,\n",
       " 'HUM': 1,\n",
       " 'LIN': 1,\n",
       " 'MRK': 3,\n",
       " 'MCO': 2,\n",
       " 'RTX': 1,\n",
       " 'VRTX': 1,\n",
       " 'WEC': 3,\n",
       " 'CLYCT': 1,\n",
       " 'D': 3,\n",
       " 'LDOS': 1,\n",
       " 'SAIC': 1,\n",
       " 'TLRY': 3,\n",
       " 'TMUBMUSD03M': 1,\n",
       " 'ARW': 1,\n",
       " 'CCEP': 1,\n",
       " 'CMP': 1,\n",
       " 'COP': 1,\n",
       " 'F': 1,\n",
       " 'HRL': 1,\n",
       " 'LB': 1,\n",
       " 'MTB': 1,\n",
       " 'MCD': 3,\n",
       " 'PRU': 1,\n",
       " 'PSA': 1,\n",
       " 'RSG': 2,\n",
       " 'VFC': 1,\n",
       " 'WM': 1,\n",
       " 'APPL': 1,\n",
       " 'STZ': 1,\n",
       " 'GTN': 1,\n",
       " 'MCS': 1,\n",
       " 'QCHR': 1,\n",
       " 'SHAK': 1,\n",
       " 'HSIP': 1,\n",
       " 'AM': 2,\n",
       " 'ENLC': 1,\n",
       " 'NS': 1,\n",
       " 'PBFX': 1,\n",
       " 'USAC': 1,\n",
       " 'USDP': 1,\n",
       " 'GLD': 1,\n",
       " 'COHR': 1,\n",
       " 'FLEX': 2,\n",
       " 'KR': 1,\n",
       " 'VIAC': 2,\n",
       " 'KMI': 1,\n",
       " 'SPXC': 1,\n",
       " 'BXS$A': 1,\n",
       " 'ALXN': 2,\n",
       " 'AMAT': 1,\n",
       " 'DNKN': 1,\n",
       " 'ROKU': 1,\n",
       " 'SJCOG': 1,\n",
       " 'ZBRA': 1,\n",
       " 'SIRI': 1,\n",
       " 'PRAH': 1,\n",
       " 'LH': 1,\n",
       " 'CSGP': 1,\n",
       " 'AME': 1,\n",
       " 'ALOID': 1,\n",
       " 'FCEL': 1,\n",
       " 'PLUG': 1,\n",
       " 'CHD': 1,\n",
       " 'ADI': 1,\n",
       " 'ASML': 1,\n",
       " 'FSLR': 1,\n",
       " 'MJNA': 1,\n",
       " 'ICE': 1,\n",
       " 'CHWY': 1,\n",
       " 'DOCU': 1,\n",
       " 'GM': 1,\n",
       " 'W': 3,\n",
       " 'ZOOM': 2,\n",
       " 'BKEP': 2,\n",
       " 'ARNC': 1,\n",
       " 'HDS': 4,\n",
       " 'TDG': 1,\n",
       " 'ZUO': 1,\n",
       " 'BHP': 1,\n",
       " 'EQNR': 1,\n",
       " 'NCMGF': 1,\n",
       " 'WOLWF': 1}"
      ]
     },
     "execution_count": 52,
     "metadata": {},
     "output_type": "execute_result"
    }
   ],
   "source": [
    "#turns the counter into a dictionary with named ticker value and the frequency number in the pair\n",
    "#This dict will be used for the FREQUENCY GRAPH\n",
    "from collections import Counter\n",
    "my_dict = dict(Counter(dfhg.ticker))\n",
    "my_dict"
   ]
  },
  {
   "cell_type": "code",
   "execution_count": 53,
   "id": "14c49608",
   "metadata": {},
   "outputs": [
    {
     "data": {
      "application/vnd.plotly.v1+json": {
       "config": {
        "plotlyServerURL": "https://plot.ly"
       },
       "data": [
        {
         "alignmentgroup": "True",
         "hovertemplate": "ticker=%{x}<br>frequency=%{marker.color}<extra></extra>",
         "legendgroup": "",
         "marker": {
          "color": [
           7,
           6,
           5,
           5,
           5,
           5,
           4,
           4,
           4,
           4,
           4,
           4,
           3,
           3,
           3,
           3,
           3,
           3,
           3,
           3,
           3,
           3,
           3,
           3,
           3,
           3,
           3,
           3,
           3,
           3,
           3,
           2,
           2,
           2,
           2,
           2,
           2,
           2,
           2,
           2,
           2,
           2,
           2,
           2,
           2,
           2,
           2,
           2,
           2,
           2,
           2,
           2,
           2,
           2,
           2,
           2,
           2,
           2,
           2,
           2,
           2,
           2,
           2,
           2,
           2,
           2,
           2,
           2,
           2,
           2,
           2,
           2,
           2,
           2,
           2,
           2,
           2,
           2,
           2,
           2,
           2,
           2,
           2,
           1,
           1,
           1,
           1,
           1,
           1,
           1,
           1,
           1,
           1,
           1,
           1,
           1,
           1,
           1,
           1,
           1,
           1,
           1,
           1,
           1,
           1,
           1,
           1,
           1,
           1,
           1,
           1,
           1,
           1,
           1,
           1,
           1,
           1,
           1,
           1,
           1,
           1,
           1,
           1,
           1,
           1,
           1,
           1,
           1,
           1,
           1,
           1,
           1,
           1,
           1,
           1,
           1,
           1,
           1,
           1,
           1,
           1,
           1,
           1,
           1,
           1,
           1,
           1,
           1,
           1,
           1,
           1,
           1,
           1,
           1,
           1,
           1,
           1,
           1,
           1,
           1,
           1,
           1,
           1,
           1,
           1,
           1,
           1,
           1,
           1,
           1,
           1,
           1,
           1,
           1,
           1,
           1,
           1,
           1,
           1,
           1,
           1,
           1,
           1,
           1,
           1,
           1,
           1,
           1,
           1,
           1,
           1,
           1,
           1,
           1,
           1,
           1,
           1,
           1,
           1,
           1,
           1,
           1,
           1,
           1,
           1,
           1,
           1,
           1,
           1,
           1,
           1,
           1,
           1,
           1,
           1,
           1,
           1,
           1,
           1,
           1,
           1,
           1,
           1,
           1,
           1,
           1,
           1,
           1,
           1,
           1,
           1,
           1,
           1,
           1,
           1,
           1,
           1,
           1,
           1,
           1,
           1,
           1,
           1,
           1,
           1,
           1,
           1,
           1,
           1,
           1,
           1,
           1,
           1,
           1,
           1,
           1,
           1,
           1,
           1,
           1,
           1,
           1,
           1,
           1,
           1,
           1,
           1,
           1,
           1,
           1,
           1,
           1,
           1,
           1,
           1,
           1,
           1,
           1,
           1,
           1,
           1,
           1,
           1,
           1,
           1,
           1,
           1,
           1,
           1,
           1,
           1,
           1,
           1,
           1,
           1,
           1,
           1,
           1,
           1,
           1,
           1,
           1,
           1,
           1,
           1,
           1,
           1,
           1,
           1,
           1,
           1,
           1
          ],
          "coloraxis": "coloraxis",
          "pattern": {
           "shape": ""
          }
         },
         "name": "",
         "offsetgroup": "",
         "orientation": "v",
         "showlegend": false,
         "textposition": "auto",
         "texttemplate": "%{y:.2s}",
         "type": "bar",
         "x": [
          "AMZN",
          "IFNNY",
          "V",
          "AAPL",
          "WMT",
          "GOOG",
          "GOOGL",
          "KTOS",
          "MSFT",
          "HDS",
          "SPCE",
          "TSM",
          "BABA",
          "TLRY",
          "BLL",
          "D",
          "FB",
          "PG",
          "MCD",
          "PYPL",
          "MRK",
          "W",
          "MA",
          "INTC",
          "AMGN",
          "TSLA",
          "VCYT",
          "BRK.B",
          "HD",
          "BXS",
          "WEC",
          "MCO",
          "COLD",
          "IBM",
          "FDX",
          "EW",
          "DASTY",
          "COST",
          "AM",
          "CMS",
          "CHTR",
          "FLEX",
          "JNJ",
          "NEM",
          "LZAGY",
          "RIO",
          "SSMXY",
          "STT",
          "SGSOY",
          "SAP",
          "SPGI",
          "TFC",
          "RHHBY",
          "USB",
          "DKNG",
          "UNH",
          "OKE",
          "NVDA",
          "NOC",
          "ALXN",
          "NSRGY",
          "MSI",
          "VIAC",
          "RSG",
          "ROP",
          "AAGIY",
          "ZOOM",
          "SBUX",
          "QCOM",
          "BKEP",
          "INFO",
          "CFG",
          "BAC",
          "DIS",
          "ADBE",
          "FISV",
          "SITE",
          "ECL",
          "PHR",
          "ICUI",
          "BIIB",
          "DXCM",
          "CACI",
          "WYND",
          "ZTS",
          "WH",
          "YNDX",
          "ZG",
          "Z",
          "NGLS",
          "FNRVGX",
          "HII",
          "GM",
          "ARNC",
          "HAE",
          "DOCU",
          "CHWY",
          "ICE",
          "--",
          "MJNA",
          "WMB",
          "BXS$A",
          "WLK",
          "UBER",
          "TGT",
          "TCEHY",
          "NCMGF",
          "TMO",
          "TOL",
          "TRU",
          "EQNR",
          "BHP",
          "ZUO",
          "UNICY",
          "WBA",
          "UL",
          "UNP",
          "UPS",
          "TDG",
          "UNVR",
          "VRSK",
          "VTRS",
          "ADDYY",
          "VMC",
          "FSLR",
          "ASML",
          "APD",
          "PRU",
          "SIRI",
          "SYF",
          "VFC",
          "WM",
          "APPL",
          "STZ",
          "GTN",
          "MCS",
          "QCHR",
          "ZBRA",
          "SHAK",
          "HSIP",
          "SJCOG",
          "ROKU",
          "ENLC",
          "NS",
          "PBFX",
          "USAC",
          "USDP",
          "GLD",
          "DNKN",
          "COHR",
          "AMAT",
          "KR",
          "KMI",
          "PSA",
          "PRAH",
          "SPXC",
          "MTB",
          "BPHSPX",
          "CLX",
          "HUM",
          "LIN",
          "ADI",
          "CHD",
          "PLUG",
          "RTX",
          "VRTX",
          "FCEL",
          "CLYCT",
          "ALOID",
          "LDOS",
          "SAIC",
          "AME",
          "TMUBMUSD03M",
          "ARW",
          "CCEP",
          "CMP",
          "COP",
          "CSGP",
          "F",
          "LH",
          "HRL",
          "LB",
          "SNPS",
          "ORCL",
          "SYIEY",
          "SIVB",
          "BA",
          "BSX",
          "AVGO",
          "CDNS",
          "CNI",
          "CCL",
          "CAT",
          "SCHW",
          "CHKP",
          "CHGCY",
          "CI",
          "XEC",
          "CTAS",
          "CMCSA",
          "CLGX",
          "CCK",
          "DHR",
          "DBSDY",
          "DEO",
          "FANG",
          "DFS",
          "DG",
          "DXC",
          "EMN",
          "ETN",
          "EMR",
          "EHC",
          "EPOKY",
          "EQIX",
          "BBY",
          "BAX",
          "ATLKY",
          "ADDDYY",
          "DOMO",
          "INTL",
          "LMT",
          "MU",
          "TMUS",
          "GO",
          "DELL",
          "CHNG",
          "CDW",
          "ABT",
          "ABBV",
          "ACHC",
          "ATVI",
          "AMD",
          "ATH",
          "ADYEY",
          "A",
          "AL",
          "ALC",
          "ALFVY",
          "ADS",
          "ALIZY",
          "ABEV",
          "AMT",
          "AWK",
          "ANTM",
          "AON",
          "T",
          "EXPE",
          "XOM",
          "FANUY",
          "PEP",
          "NFLX",
          "NYT",
          "NEE",
          "NKE",
          "NCLTY",
          "NVZMY",
          "NUE",
          "NVR",
          "OKTA",
          "OMF",
          "SEP",
          "ORLY",
          "PH",
          "PFE",
          "MSCI",
          "PSX",
          "PNGAY",
          "PNC",
          "PLD",
          "RMD",
          "ROK",
          "SC",
          "SLB",
          "SBGSY",
          "SEE",
          "ST",
          "SNAP",
          "SONVY",
          "NTAP",
          "MOS",
          "FITB",
          "ITUB",
          "BEN",
          "FUPBY",
          "GLPI",
          "GPN",
          "HDB",
          "HSIC",
          "HRC",
          "HSBC",
          "HUN",
          "IBN",
          "IDXXX",
          "PODD",
          "ISRG",
          "JBL",
          "MS",
          "JPM",
          "KKR",
          "KMTUY",
          "KUBTY",
          "AIQUY",
          "LYV",
          "LRLCY",
          "LOW",
          "LULU",
          "LYB",
          "MMC",
          "MTCH",
          "MCHP",
          "WOLWF"
         ],
         "xaxis": "x",
         "y": [
          7,
          6,
          5,
          5,
          5,
          5,
          4,
          4,
          4,
          4,
          4,
          4,
          3,
          3,
          3,
          3,
          3,
          3,
          3,
          3,
          3,
          3,
          3,
          3,
          3,
          3,
          3,
          3,
          3,
          3,
          3,
          2,
          2,
          2,
          2,
          2,
          2,
          2,
          2,
          2,
          2,
          2,
          2,
          2,
          2,
          2,
          2,
          2,
          2,
          2,
          2,
          2,
          2,
          2,
          2,
          2,
          2,
          2,
          2,
          2,
          2,
          2,
          2,
          2,
          2,
          2,
          2,
          2,
          2,
          2,
          2,
          2,
          2,
          2,
          2,
          2,
          2,
          2,
          2,
          2,
          2,
          2,
          2,
          1,
          1,
          1,
          1,
          1,
          1,
          1,
          1,
          1,
          1,
          1,
          1,
          1,
          1,
          1,
          1,
          1,
          1,
          1,
          1,
          1,
          1,
          1,
          1,
          1,
          1,
          1,
          1,
          1,
          1,
          1,
          1,
          1,
          1,
          1,
          1,
          1,
          1,
          1,
          1,
          1,
          1,
          1,
          1,
          1,
          1,
          1,
          1,
          1,
          1,
          1,
          1,
          1,
          1,
          1,
          1,
          1,
          1,
          1,
          1,
          1,
          1,
          1,
          1,
          1,
          1,
          1,
          1,
          1,
          1,
          1,
          1,
          1,
          1,
          1,
          1,
          1,
          1,
          1,
          1,
          1,
          1,
          1,
          1,
          1,
          1,
          1,
          1,
          1,
          1,
          1,
          1,
          1,
          1,
          1,
          1,
          1,
          1,
          1,
          1,
          1,
          1,
          1,
          1,
          1,
          1,
          1,
          1,
          1,
          1,
          1,
          1,
          1,
          1,
          1,
          1,
          1,
          1,
          1,
          1,
          1,
          1,
          1,
          1,
          1,
          1,
          1,
          1,
          1,
          1,
          1,
          1,
          1,
          1,
          1,
          1,
          1,
          1,
          1,
          1,
          1,
          1,
          1,
          1,
          1,
          1,
          1,
          1,
          1,
          1,
          1,
          1,
          1,
          1,
          1,
          1,
          1,
          1,
          1,
          1,
          1,
          1,
          1,
          1,
          1,
          1,
          1,
          1,
          1,
          1,
          1,
          1,
          1,
          1,
          1,
          1,
          1,
          1,
          1,
          1,
          1,
          1,
          1,
          1,
          1,
          1,
          1,
          1,
          1,
          1,
          1,
          1,
          1,
          1,
          1,
          1,
          1,
          1,
          1,
          1,
          1,
          1,
          1,
          1,
          1,
          1,
          1,
          1,
          1,
          1,
          1,
          1,
          1,
          1,
          1,
          1,
          1,
          1,
          1,
          1,
          1,
          1,
          1,
          1,
          1,
          1,
          1,
          1,
          1
         ],
         "yaxis": "y"
        }
       ],
       "layout": {
        "barmode": "relative",
        "coloraxis": {
         "colorbar": {
          "title": {
           "text": "frequency"
          }
         },
         "colorscale": [
          [
           0,
           "#0d0887"
          ],
          [
           0.1111111111111111,
           "#46039f"
          ],
          [
           0.2222222222222222,
           "#7201a8"
          ],
          [
           0.3333333333333333,
           "#9c179e"
          ],
          [
           0.4444444444444444,
           "#bd3786"
          ],
          [
           0.5555555555555556,
           "#d8576b"
          ],
          [
           0.6666666666666666,
           "#ed7953"
          ],
          [
           0.7777777777777778,
           "#fb9f3a"
          ],
          [
           0.8888888888888888,
           "#fdca26"
          ],
          [
           1,
           "#f0f921"
          ]
         ]
        },
        "legend": {
         "tracegroupgap": 0
        },
        "template": {
         "data": {
          "bar": [
           {
            "error_x": {
             "color": "#2a3f5f"
            },
            "error_y": {
             "color": "#2a3f5f"
            },
            "marker": {
             "line": {
              "color": "#E5ECF6",
              "width": 0.5
             },
             "pattern": {
              "fillmode": "overlay",
              "size": 10,
              "solidity": 0.2
             }
            },
            "type": "bar"
           }
          ],
          "barpolar": [
           {
            "marker": {
             "line": {
              "color": "#E5ECF6",
              "width": 0.5
             },
             "pattern": {
              "fillmode": "overlay",
              "size": 10,
              "solidity": 0.2
             }
            },
            "type": "barpolar"
           }
          ],
          "carpet": [
           {
            "aaxis": {
             "endlinecolor": "#2a3f5f",
             "gridcolor": "white",
             "linecolor": "white",
             "minorgridcolor": "white",
             "startlinecolor": "#2a3f5f"
            },
            "baxis": {
             "endlinecolor": "#2a3f5f",
             "gridcolor": "white",
             "linecolor": "white",
             "minorgridcolor": "white",
             "startlinecolor": "#2a3f5f"
            },
            "type": "carpet"
           }
          ],
          "choropleth": [
           {
            "colorbar": {
             "outlinewidth": 0,
             "ticks": ""
            },
            "type": "choropleth"
           }
          ],
          "contour": [
           {
            "colorbar": {
             "outlinewidth": 0,
             "ticks": ""
            },
            "colorscale": [
             [
              0,
              "#0d0887"
             ],
             [
              0.1111111111111111,
              "#46039f"
             ],
             [
              0.2222222222222222,
              "#7201a8"
             ],
             [
              0.3333333333333333,
              "#9c179e"
             ],
             [
              0.4444444444444444,
              "#bd3786"
             ],
             [
              0.5555555555555556,
              "#d8576b"
             ],
             [
              0.6666666666666666,
              "#ed7953"
             ],
             [
              0.7777777777777778,
              "#fb9f3a"
             ],
             [
              0.8888888888888888,
              "#fdca26"
             ],
             [
              1,
              "#f0f921"
             ]
            ],
            "type": "contour"
           }
          ],
          "contourcarpet": [
           {
            "colorbar": {
             "outlinewidth": 0,
             "ticks": ""
            },
            "type": "contourcarpet"
           }
          ],
          "heatmap": [
           {
            "colorbar": {
             "outlinewidth": 0,
             "ticks": ""
            },
            "colorscale": [
             [
              0,
              "#0d0887"
             ],
             [
              0.1111111111111111,
              "#46039f"
             ],
             [
              0.2222222222222222,
              "#7201a8"
             ],
             [
              0.3333333333333333,
              "#9c179e"
             ],
             [
              0.4444444444444444,
              "#bd3786"
             ],
             [
              0.5555555555555556,
              "#d8576b"
             ],
             [
              0.6666666666666666,
              "#ed7953"
             ],
             [
              0.7777777777777778,
              "#fb9f3a"
             ],
             [
              0.8888888888888888,
              "#fdca26"
             ],
             [
              1,
              "#f0f921"
             ]
            ],
            "type": "heatmap"
           }
          ],
          "heatmapgl": [
           {
            "colorbar": {
             "outlinewidth": 0,
             "ticks": ""
            },
            "colorscale": [
             [
              0,
              "#0d0887"
             ],
             [
              0.1111111111111111,
              "#46039f"
             ],
             [
              0.2222222222222222,
              "#7201a8"
             ],
             [
              0.3333333333333333,
              "#9c179e"
             ],
             [
              0.4444444444444444,
              "#bd3786"
             ],
             [
              0.5555555555555556,
              "#d8576b"
             ],
             [
              0.6666666666666666,
              "#ed7953"
             ],
             [
              0.7777777777777778,
              "#fb9f3a"
             ],
             [
              0.8888888888888888,
              "#fdca26"
             ],
             [
              1,
              "#f0f921"
             ]
            ],
            "type": "heatmapgl"
           }
          ],
          "histogram": [
           {
            "marker": {
             "pattern": {
              "fillmode": "overlay",
              "size": 10,
              "solidity": 0.2
             }
            },
            "type": "histogram"
           }
          ],
          "histogram2d": [
           {
            "colorbar": {
             "outlinewidth": 0,
             "ticks": ""
            },
            "colorscale": [
             [
              0,
              "#0d0887"
             ],
             [
              0.1111111111111111,
              "#46039f"
             ],
             [
              0.2222222222222222,
              "#7201a8"
             ],
             [
              0.3333333333333333,
              "#9c179e"
             ],
             [
              0.4444444444444444,
              "#bd3786"
             ],
             [
              0.5555555555555556,
              "#d8576b"
             ],
             [
              0.6666666666666666,
              "#ed7953"
             ],
             [
              0.7777777777777778,
              "#fb9f3a"
             ],
             [
              0.8888888888888888,
              "#fdca26"
             ],
             [
              1,
              "#f0f921"
             ]
            ],
            "type": "histogram2d"
           }
          ],
          "histogram2dcontour": [
           {
            "colorbar": {
             "outlinewidth": 0,
             "ticks": ""
            },
            "colorscale": [
             [
              0,
              "#0d0887"
             ],
             [
              0.1111111111111111,
              "#46039f"
             ],
             [
              0.2222222222222222,
              "#7201a8"
             ],
             [
              0.3333333333333333,
              "#9c179e"
             ],
             [
              0.4444444444444444,
              "#bd3786"
             ],
             [
              0.5555555555555556,
              "#d8576b"
             ],
             [
              0.6666666666666666,
              "#ed7953"
             ],
             [
              0.7777777777777778,
              "#fb9f3a"
             ],
             [
              0.8888888888888888,
              "#fdca26"
             ],
             [
              1,
              "#f0f921"
             ]
            ],
            "type": "histogram2dcontour"
           }
          ],
          "mesh3d": [
           {
            "colorbar": {
             "outlinewidth": 0,
             "ticks": ""
            },
            "type": "mesh3d"
           }
          ],
          "parcoords": [
           {
            "line": {
             "colorbar": {
              "outlinewidth": 0,
              "ticks": ""
             }
            },
            "type": "parcoords"
           }
          ],
          "pie": [
           {
            "automargin": true,
            "type": "pie"
           }
          ],
          "scatter": [
           {
            "fillpattern": {
             "fillmode": "overlay",
             "size": 10,
             "solidity": 0.2
            },
            "type": "scatter"
           }
          ],
          "scatter3d": [
           {
            "line": {
             "colorbar": {
              "outlinewidth": 0,
              "ticks": ""
             }
            },
            "marker": {
             "colorbar": {
              "outlinewidth": 0,
              "ticks": ""
             }
            },
            "type": "scatter3d"
           }
          ],
          "scattercarpet": [
           {
            "marker": {
             "colorbar": {
              "outlinewidth": 0,
              "ticks": ""
             }
            },
            "type": "scattercarpet"
           }
          ],
          "scattergeo": [
           {
            "marker": {
             "colorbar": {
              "outlinewidth": 0,
              "ticks": ""
             }
            },
            "type": "scattergeo"
           }
          ],
          "scattergl": [
           {
            "marker": {
             "colorbar": {
              "outlinewidth": 0,
              "ticks": ""
             }
            },
            "type": "scattergl"
           }
          ],
          "scattermapbox": [
           {
            "marker": {
             "colorbar": {
              "outlinewidth": 0,
              "ticks": ""
             }
            },
            "type": "scattermapbox"
           }
          ],
          "scatterpolar": [
           {
            "marker": {
             "colorbar": {
              "outlinewidth": 0,
              "ticks": ""
             }
            },
            "type": "scatterpolar"
           }
          ],
          "scatterpolargl": [
           {
            "marker": {
             "colorbar": {
              "outlinewidth": 0,
              "ticks": ""
             }
            },
            "type": "scatterpolargl"
           }
          ],
          "scatterternary": [
           {
            "marker": {
             "colorbar": {
              "outlinewidth": 0,
              "ticks": ""
             }
            },
            "type": "scatterternary"
           }
          ],
          "surface": [
           {
            "colorbar": {
             "outlinewidth": 0,
             "ticks": ""
            },
            "colorscale": [
             [
              0,
              "#0d0887"
             ],
             [
              0.1111111111111111,
              "#46039f"
             ],
             [
              0.2222222222222222,
              "#7201a8"
             ],
             [
              0.3333333333333333,
              "#9c179e"
             ],
             [
              0.4444444444444444,
              "#bd3786"
             ],
             [
              0.5555555555555556,
              "#d8576b"
             ],
             [
              0.6666666666666666,
              "#ed7953"
             ],
             [
              0.7777777777777778,
              "#fb9f3a"
             ],
             [
              0.8888888888888888,
              "#fdca26"
             ],
             [
              1,
              "#f0f921"
             ]
            ],
            "type": "surface"
           }
          ],
          "table": [
           {
            "cells": {
             "fill": {
              "color": "#EBF0F8"
             },
             "line": {
              "color": "white"
             }
            },
            "header": {
             "fill": {
              "color": "#C8D4E3"
             },
             "line": {
              "color": "white"
             }
            },
            "type": "table"
           }
          ]
         },
         "layout": {
          "annotationdefaults": {
           "arrowcolor": "#2a3f5f",
           "arrowhead": 0,
           "arrowwidth": 1
          },
          "autotypenumbers": "strict",
          "coloraxis": {
           "colorbar": {
            "outlinewidth": 0,
            "ticks": ""
           }
          },
          "colorscale": {
           "diverging": [
            [
             0,
             "#8e0152"
            ],
            [
             0.1,
             "#c51b7d"
            ],
            [
             0.2,
             "#de77ae"
            ],
            [
             0.3,
             "#f1b6da"
            ],
            [
             0.4,
             "#fde0ef"
            ],
            [
             0.5,
             "#f7f7f7"
            ],
            [
             0.6,
             "#e6f5d0"
            ],
            [
             0.7,
             "#b8e186"
            ],
            [
             0.8,
             "#7fbc41"
            ],
            [
             0.9,
             "#4d9221"
            ],
            [
             1,
             "#276419"
            ]
           ],
           "sequential": [
            [
             0,
             "#0d0887"
            ],
            [
             0.1111111111111111,
             "#46039f"
            ],
            [
             0.2222222222222222,
             "#7201a8"
            ],
            [
             0.3333333333333333,
             "#9c179e"
            ],
            [
             0.4444444444444444,
             "#bd3786"
            ],
            [
             0.5555555555555556,
             "#d8576b"
            ],
            [
             0.6666666666666666,
             "#ed7953"
            ],
            [
             0.7777777777777778,
             "#fb9f3a"
            ],
            [
             0.8888888888888888,
             "#fdca26"
            ],
            [
             1,
             "#f0f921"
            ]
           ],
           "sequentialminus": [
            [
             0,
             "#0d0887"
            ],
            [
             0.1111111111111111,
             "#46039f"
            ],
            [
             0.2222222222222222,
             "#7201a8"
            ],
            [
             0.3333333333333333,
             "#9c179e"
            ],
            [
             0.4444444444444444,
             "#bd3786"
            ],
            [
             0.5555555555555556,
             "#d8576b"
            ],
            [
             0.6666666666666666,
             "#ed7953"
            ],
            [
             0.7777777777777778,
             "#fb9f3a"
            ],
            [
             0.8888888888888888,
             "#fdca26"
            ],
            [
             1,
             "#f0f921"
            ]
           ]
          },
          "colorway": [
           "#636efa",
           "#EF553B",
           "#00cc96",
           "#ab63fa",
           "#FFA15A",
           "#19d3f3",
           "#FF6692",
           "#B6E880",
           "#FF97FF",
           "#FECB52"
          ],
          "font": {
           "color": "#2a3f5f"
          },
          "geo": {
           "bgcolor": "white",
           "lakecolor": "white",
           "landcolor": "#E5ECF6",
           "showlakes": true,
           "showland": true,
           "subunitcolor": "white"
          },
          "hoverlabel": {
           "align": "left"
          },
          "hovermode": "closest",
          "mapbox": {
           "style": "light"
          },
          "paper_bgcolor": "white",
          "plot_bgcolor": "#E5ECF6",
          "polar": {
           "angularaxis": {
            "gridcolor": "white",
            "linecolor": "white",
            "ticks": ""
           },
           "bgcolor": "#E5ECF6",
           "radialaxis": {
            "gridcolor": "white",
            "linecolor": "white",
            "ticks": ""
           }
          },
          "scene": {
           "xaxis": {
            "backgroundcolor": "#E5ECF6",
            "gridcolor": "white",
            "gridwidth": 2,
            "linecolor": "white",
            "showbackground": true,
            "ticks": "",
            "zerolinecolor": "white"
           },
           "yaxis": {
            "backgroundcolor": "#E5ECF6",
            "gridcolor": "white",
            "gridwidth": 2,
            "linecolor": "white",
            "showbackground": true,
            "ticks": "",
            "zerolinecolor": "white"
           },
           "zaxis": {
            "backgroundcolor": "#E5ECF6",
            "gridcolor": "white",
            "gridwidth": 2,
            "linecolor": "white",
            "showbackground": true,
            "ticks": "",
            "zerolinecolor": "white"
           }
          },
          "shapedefaults": {
           "line": {
            "color": "#2a3f5f"
           }
          },
          "ternary": {
           "aaxis": {
            "gridcolor": "white",
            "linecolor": "white",
            "ticks": ""
           },
           "baxis": {
            "gridcolor": "white",
            "linecolor": "white",
            "ticks": ""
           },
           "bgcolor": "#E5ECF6",
           "caxis": {
            "gridcolor": "white",
            "linecolor": "white",
            "ticks": ""
           }
          },
          "title": {
           "x": 0.05
          },
          "xaxis": {
           "automargin": true,
           "gridcolor": "white",
           "linecolor": "white",
           "ticks": "",
           "title": {
            "standoff": 15
           },
           "zerolinecolor": "white",
           "zerolinewidth": 2
          },
          "yaxis": {
           "automargin": true,
           "gridcolor": "white",
           "linecolor": "white",
           "ticks": "",
           "title": {
            "standoff": 15
           },
           "zerolinecolor": "white",
           "zerolinewidth": 2
          }
         }
        },
        "title": {
         "text": "House of Reps 2021 Good Investments With Frequent Gain"
        },
        "xaxis": {
         "anchor": "y",
         "domain": [
          0,
          1
         ],
         "title": {
          "text": "ticker"
         }
        },
        "yaxis": {
         "anchor": "x",
         "domain": [
          0,
          1
         ],
         "title": {
          "text": "frequency"
         }
        }
       }
      },
      "text/html": [
       "<div>                            <div id=\"7f43316c-98cc-48a1-b21d-648b1b7469e4\" class=\"plotly-graph-div\" style=\"height:525px; width:100%;\"></div>            <script type=\"text/javascript\">                require([\"plotly\"], function(Plotly) {                    window.PLOTLYENV=window.PLOTLYENV || {};                                    if (document.getElementById(\"7f43316c-98cc-48a1-b21d-648b1b7469e4\")) {                    Plotly.newPlot(                        \"7f43316c-98cc-48a1-b21d-648b1b7469e4\",                        [{\"alignmentgroup\":\"True\",\"hovertemplate\":\"ticker=%{x}<br>frequency=%{marker.color}<extra></extra>\",\"legendgroup\":\"\",\"marker\":{\"color\":[7,6,5,5,5,5,4,4,4,4,4,4,3,3,3,3,3,3,3,3,3,3,3,3,3,3,3,3,3,3,3,2,2,2,2,2,2,2,2,2,2,2,2,2,2,2,2,2,2,2,2,2,2,2,2,2,2,2,2,2,2,2,2,2,2,2,2,2,2,2,2,2,2,2,2,2,2,2,2,2,2,2,2,1,1,1,1,1,1,1,1,1,1,1,1,1,1,1,1,1,1,1,1,1,1,1,1,1,1,1,1,1,1,1,1,1,1,1,1,1,1,1,1,1,1,1,1,1,1,1,1,1,1,1,1,1,1,1,1,1,1,1,1,1,1,1,1,1,1,1,1,1,1,1,1,1,1,1,1,1,1,1,1,1,1,1,1,1,1,1,1,1,1,1,1,1,1,1,1,1,1,1,1,1,1,1,1,1,1,1,1,1,1,1,1,1,1,1,1,1,1,1,1,1,1,1,1,1,1,1,1,1,1,1,1,1,1,1,1,1,1,1,1,1,1,1,1,1,1,1,1,1,1,1,1,1,1,1,1,1,1,1,1,1,1,1,1,1,1,1,1,1,1,1,1,1,1,1,1,1,1,1,1,1,1,1,1,1,1,1,1,1,1,1,1,1,1,1,1,1,1,1,1,1,1,1,1,1,1,1,1,1,1,1,1,1,1,1,1,1,1,1,1,1,1,1,1,1,1,1,1,1],\"coloraxis\":\"coloraxis\",\"pattern\":{\"shape\":\"\"}},\"name\":\"\",\"offsetgroup\":\"\",\"orientation\":\"v\",\"showlegend\":false,\"textposition\":\"auto\",\"texttemplate\":\"%{y:.2s}\",\"x\":[\"AMZN\",\"IFNNY\",\"V\",\"AAPL\",\"WMT\",\"GOOG\",\"GOOGL\",\"KTOS\",\"MSFT\",\"HDS\",\"SPCE\",\"TSM\",\"BABA\",\"TLRY\",\"BLL\",\"D\",\"FB\",\"PG\",\"MCD\",\"PYPL\",\"MRK\",\"W\",\"MA\",\"INTC\",\"AMGN\",\"TSLA\",\"VCYT\",\"BRK.B\",\"HD\",\"BXS\",\"WEC\",\"MCO\",\"COLD\",\"IBM\",\"FDX\",\"EW\",\"DASTY\",\"COST\",\"AM\",\"CMS\",\"CHTR\",\"FLEX\",\"JNJ\",\"NEM\",\"LZAGY\",\"RIO\",\"SSMXY\",\"STT\",\"SGSOY\",\"SAP\",\"SPGI\",\"TFC\",\"RHHBY\",\"USB\",\"DKNG\",\"UNH\",\"OKE\",\"NVDA\",\"NOC\",\"ALXN\",\"NSRGY\",\"MSI\",\"VIAC\",\"RSG\",\"ROP\",\"AAGIY\",\"ZOOM\",\"SBUX\",\"QCOM\",\"BKEP\",\"INFO\",\"CFG\",\"BAC\",\"DIS\",\"ADBE\",\"FISV\",\"SITE\",\"ECL\",\"PHR\",\"ICUI\",\"BIIB\",\"DXCM\",\"CACI\",\"WYND\",\"ZTS\",\"WH\",\"YNDX\",\"ZG\",\"Z\",\"NGLS\",\"FNRVGX\",\"HII\",\"GM\",\"ARNC\",\"HAE\",\"DOCU\",\"CHWY\",\"ICE\",\"--\",\"MJNA\",\"WMB\",\"BXS$A\",\"WLK\",\"UBER\",\"TGT\",\"TCEHY\",\"NCMGF\",\"TMO\",\"TOL\",\"TRU\",\"EQNR\",\"BHP\",\"ZUO\",\"UNICY\",\"WBA\",\"UL\",\"UNP\",\"UPS\",\"TDG\",\"UNVR\",\"VRSK\",\"VTRS\",\"ADDYY\",\"VMC\",\"FSLR\",\"ASML\",\"APD\",\"PRU\",\"SIRI\",\"SYF\",\"VFC\",\"WM\",\"APPL\",\"STZ\",\"GTN\",\"MCS\",\"QCHR\",\"ZBRA\",\"SHAK\",\"HSIP\",\"SJCOG\",\"ROKU\",\"ENLC\",\"NS\",\"PBFX\",\"USAC\",\"USDP\",\"GLD\",\"DNKN\",\"COHR\",\"AMAT\",\"KR\",\"KMI\",\"PSA\",\"PRAH\",\"SPXC\",\"MTB\",\"BPHSPX\",\"CLX\",\"HUM\",\"LIN\",\"ADI\",\"CHD\",\"PLUG\",\"RTX\",\"VRTX\",\"FCEL\",\"CLYCT\",\"ALOID\",\"LDOS\",\"SAIC\",\"AME\",\"TMUBMUSD03M\",\"ARW\",\"CCEP\",\"CMP\",\"COP\",\"CSGP\",\"F\",\"LH\",\"HRL\",\"LB\",\"SNPS\",\"ORCL\",\"SYIEY\",\"SIVB\",\"BA\",\"BSX\",\"AVGO\",\"CDNS\",\"CNI\",\"CCL\",\"CAT\",\"SCHW\",\"CHKP\",\"CHGCY\",\"CI\",\"XEC\",\"CTAS\",\"CMCSA\",\"CLGX\",\"CCK\",\"DHR\",\"DBSDY\",\"DEO\",\"FANG\",\"DFS\",\"DG\",\"DXC\",\"EMN\",\"ETN\",\"EMR\",\"EHC\",\"EPOKY\",\"EQIX\",\"BBY\",\"BAX\",\"ATLKY\",\"ADDDYY\",\"DOMO\",\"INTL\",\"LMT\",\"MU\",\"TMUS\",\"GO\",\"DELL\",\"CHNG\",\"CDW\",\"ABT\",\"ABBV\",\"ACHC\",\"ATVI\",\"AMD\",\"ATH\",\"ADYEY\",\"A\",\"AL\",\"ALC\",\"ALFVY\",\"ADS\",\"ALIZY\",\"ABEV\",\"AMT\",\"AWK\",\"ANTM\",\"AON\",\"T\",\"EXPE\",\"XOM\",\"FANUY\",\"PEP\",\"NFLX\",\"NYT\",\"NEE\",\"NKE\",\"NCLTY\",\"NVZMY\",\"NUE\",\"NVR\",\"OKTA\",\"OMF\",\"SEP\",\"ORLY\",\"PH\",\"PFE\",\"MSCI\",\"PSX\",\"PNGAY\",\"PNC\",\"PLD\",\"RMD\",\"ROK\",\"SC\",\"SLB\",\"SBGSY\",\"SEE\",\"ST\",\"SNAP\",\"SONVY\",\"NTAP\",\"MOS\",\"FITB\",\"ITUB\",\"BEN\",\"FUPBY\",\"GLPI\",\"GPN\",\"HDB\",\"HSIC\",\"HRC\",\"HSBC\",\"HUN\",\"IBN\",\"IDXXX\",\"PODD\",\"ISRG\",\"JBL\",\"MS\",\"JPM\",\"KKR\",\"KMTUY\",\"KUBTY\",\"AIQUY\",\"LYV\",\"LRLCY\",\"LOW\",\"LULU\",\"LYB\",\"MMC\",\"MTCH\",\"MCHP\",\"WOLWF\"],\"xaxis\":\"x\",\"y\":[7,6,5,5,5,5,4,4,4,4,4,4,3,3,3,3,3,3,3,3,3,3,3,3,3,3,3,3,3,3,3,2,2,2,2,2,2,2,2,2,2,2,2,2,2,2,2,2,2,2,2,2,2,2,2,2,2,2,2,2,2,2,2,2,2,2,2,2,2,2,2,2,2,2,2,2,2,2,2,2,2,2,2,1,1,1,1,1,1,1,1,1,1,1,1,1,1,1,1,1,1,1,1,1,1,1,1,1,1,1,1,1,1,1,1,1,1,1,1,1,1,1,1,1,1,1,1,1,1,1,1,1,1,1,1,1,1,1,1,1,1,1,1,1,1,1,1,1,1,1,1,1,1,1,1,1,1,1,1,1,1,1,1,1,1,1,1,1,1,1,1,1,1,1,1,1,1,1,1,1,1,1,1,1,1,1,1,1,1,1,1,1,1,1,1,1,1,1,1,1,1,1,1,1,1,1,1,1,1,1,1,1,1,1,1,1,1,1,1,1,1,1,1,1,1,1,1,1,1,1,1,1,1,1,1,1,1,1,1,1,1,1,1,1,1,1,1,1,1,1,1,1,1,1,1,1,1,1,1,1,1,1,1,1,1,1,1,1,1,1,1,1,1,1,1,1,1,1,1,1,1,1,1,1,1,1,1,1,1,1,1,1,1,1,1,1,1,1,1,1,1,1,1,1,1,1,1,1,1,1,1,1],\"yaxis\":\"y\",\"type\":\"bar\"}],                        {\"template\":{\"data\":{\"histogram2dcontour\":[{\"type\":\"histogram2dcontour\",\"colorbar\":{\"outlinewidth\":0,\"ticks\":\"\"},\"colorscale\":[[0.0,\"#0d0887\"],[0.1111111111111111,\"#46039f\"],[0.2222222222222222,\"#7201a8\"],[0.3333333333333333,\"#9c179e\"],[0.4444444444444444,\"#bd3786\"],[0.5555555555555556,\"#d8576b\"],[0.6666666666666666,\"#ed7953\"],[0.7777777777777778,\"#fb9f3a\"],[0.8888888888888888,\"#fdca26\"],[1.0,\"#f0f921\"]]}],\"choropleth\":[{\"type\":\"choropleth\",\"colorbar\":{\"outlinewidth\":0,\"ticks\":\"\"}}],\"histogram2d\":[{\"type\":\"histogram2d\",\"colorbar\":{\"outlinewidth\":0,\"ticks\":\"\"},\"colorscale\":[[0.0,\"#0d0887\"],[0.1111111111111111,\"#46039f\"],[0.2222222222222222,\"#7201a8\"],[0.3333333333333333,\"#9c179e\"],[0.4444444444444444,\"#bd3786\"],[0.5555555555555556,\"#d8576b\"],[0.6666666666666666,\"#ed7953\"],[0.7777777777777778,\"#fb9f3a\"],[0.8888888888888888,\"#fdca26\"],[1.0,\"#f0f921\"]]}],\"heatmap\":[{\"type\":\"heatmap\",\"colorbar\":{\"outlinewidth\":0,\"ticks\":\"\"},\"colorscale\":[[0.0,\"#0d0887\"],[0.1111111111111111,\"#46039f\"],[0.2222222222222222,\"#7201a8\"],[0.3333333333333333,\"#9c179e\"],[0.4444444444444444,\"#bd3786\"],[0.5555555555555556,\"#d8576b\"],[0.6666666666666666,\"#ed7953\"],[0.7777777777777778,\"#fb9f3a\"],[0.8888888888888888,\"#fdca26\"],[1.0,\"#f0f921\"]]}],\"heatmapgl\":[{\"type\":\"heatmapgl\",\"colorbar\":{\"outlinewidth\":0,\"ticks\":\"\"},\"colorscale\":[[0.0,\"#0d0887\"],[0.1111111111111111,\"#46039f\"],[0.2222222222222222,\"#7201a8\"],[0.3333333333333333,\"#9c179e\"],[0.4444444444444444,\"#bd3786\"],[0.5555555555555556,\"#d8576b\"],[0.6666666666666666,\"#ed7953\"],[0.7777777777777778,\"#fb9f3a\"],[0.8888888888888888,\"#fdca26\"],[1.0,\"#f0f921\"]]}],\"contourcarpet\":[{\"type\":\"contourcarpet\",\"colorbar\":{\"outlinewidth\":0,\"ticks\":\"\"}}],\"contour\":[{\"type\":\"contour\",\"colorbar\":{\"outlinewidth\":0,\"ticks\":\"\"},\"colorscale\":[[0.0,\"#0d0887\"],[0.1111111111111111,\"#46039f\"],[0.2222222222222222,\"#7201a8\"],[0.3333333333333333,\"#9c179e\"],[0.4444444444444444,\"#bd3786\"],[0.5555555555555556,\"#d8576b\"],[0.6666666666666666,\"#ed7953\"],[0.7777777777777778,\"#fb9f3a\"],[0.8888888888888888,\"#fdca26\"],[1.0,\"#f0f921\"]]}],\"surface\":[{\"type\":\"surface\",\"colorbar\":{\"outlinewidth\":0,\"ticks\":\"\"},\"colorscale\":[[0.0,\"#0d0887\"],[0.1111111111111111,\"#46039f\"],[0.2222222222222222,\"#7201a8\"],[0.3333333333333333,\"#9c179e\"],[0.4444444444444444,\"#bd3786\"],[0.5555555555555556,\"#d8576b\"],[0.6666666666666666,\"#ed7953\"],[0.7777777777777778,\"#fb9f3a\"],[0.8888888888888888,\"#fdca26\"],[1.0,\"#f0f921\"]]}],\"mesh3d\":[{\"type\":\"mesh3d\",\"colorbar\":{\"outlinewidth\":0,\"ticks\":\"\"}}],\"scatter\":[{\"fillpattern\":{\"fillmode\":\"overlay\",\"size\":10,\"solidity\":0.2},\"type\":\"scatter\"}],\"parcoords\":[{\"type\":\"parcoords\",\"line\":{\"colorbar\":{\"outlinewidth\":0,\"ticks\":\"\"}}}],\"scatterpolargl\":[{\"type\":\"scatterpolargl\",\"marker\":{\"colorbar\":{\"outlinewidth\":0,\"ticks\":\"\"}}}],\"bar\":[{\"error_x\":{\"color\":\"#2a3f5f\"},\"error_y\":{\"color\":\"#2a3f5f\"},\"marker\":{\"line\":{\"color\":\"#E5ECF6\",\"width\":0.5},\"pattern\":{\"fillmode\":\"overlay\",\"size\":10,\"solidity\":0.2}},\"type\":\"bar\"}],\"scattergeo\":[{\"type\":\"scattergeo\",\"marker\":{\"colorbar\":{\"outlinewidth\":0,\"ticks\":\"\"}}}],\"scatterpolar\":[{\"type\":\"scatterpolar\",\"marker\":{\"colorbar\":{\"outlinewidth\":0,\"ticks\":\"\"}}}],\"histogram\":[{\"marker\":{\"pattern\":{\"fillmode\":\"overlay\",\"size\":10,\"solidity\":0.2}},\"type\":\"histogram\"}],\"scattergl\":[{\"type\":\"scattergl\",\"marker\":{\"colorbar\":{\"outlinewidth\":0,\"ticks\":\"\"}}}],\"scatter3d\":[{\"type\":\"scatter3d\",\"line\":{\"colorbar\":{\"outlinewidth\":0,\"ticks\":\"\"}},\"marker\":{\"colorbar\":{\"outlinewidth\":0,\"ticks\":\"\"}}}],\"scattermapbox\":[{\"type\":\"scattermapbox\",\"marker\":{\"colorbar\":{\"outlinewidth\":0,\"ticks\":\"\"}}}],\"scatterternary\":[{\"type\":\"scatterternary\",\"marker\":{\"colorbar\":{\"outlinewidth\":0,\"ticks\":\"\"}}}],\"scattercarpet\":[{\"type\":\"scattercarpet\",\"marker\":{\"colorbar\":{\"outlinewidth\":0,\"ticks\":\"\"}}}],\"carpet\":[{\"aaxis\":{\"endlinecolor\":\"#2a3f5f\",\"gridcolor\":\"white\",\"linecolor\":\"white\",\"minorgridcolor\":\"white\",\"startlinecolor\":\"#2a3f5f\"},\"baxis\":{\"endlinecolor\":\"#2a3f5f\",\"gridcolor\":\"white\",\"linecolor\":\"white\",\"minorgridcolor\":\"white\",\"startlinecolor\":\"#2a3f5f\"},\"type\":\"carpet\"}],\"table\":[{\"cells\":{\"fill\":{\"color\":\"#EBF0F8\"},\"line\":{\"color\":\"white\"}},\"header\":{\"fill\":{\"color\":\"#C8D4E3\"},\"line\":{\"color\":\"white\"}},\"type\":\"table\"}],\"barpolar\":[{\"marker\":{\"line\":{\"color\":\"#E5ECF6\",\"width\":0.5},\"pattern\":{\"fillmode\":\"overlay\",\"size\":10,\"solidity\":0.2}},\"type\":\"barpolar\"}],\"pie\":[{\"automargin\":true,\"type\":\"pie\"}]},\"layout\":{\"autotypenumbers\":\"strict\",\"colorway\":[\"#636efa\",\"#EF553B\",\"#00cc96\",\"#ab63fa\",\"#FFA15A\",\"#19d3f3\",\"#FF6692\",\"#B6E880\",\"#FF97FF\",\"#FECB52\"],\"font\":{\"color\":\"#2a3f5f\"},\"hovermode\":\"closest\",\"hoverlabel\":{\"align\":\"left\"},\"paper_bgcolor\":\"white\",\"plot_bgcolor\":\"#E5ECF6\",\"polar\":{\"bgcolor\":\"#E5ECF6\",\"angularaxis\":{\"gridcolor\":\"white\",\"linecolor\":\"white\",\"ticks\":\"\"},\"radialaxis\":{\"gridcolor\":\"white\",\"linecolor\":\"white\",\"ticks\":\"\"}},\"ternary\":{\"bgcolor\":\"#E5ECF6\",\"aaxis\":{\"gridcolor\":\"white\",\"linecolor\":\"white\",\"ticks\":\"\"},\"baxis\":{\"gridcolor\":\"white\",\"linecolor\":\"white\",\"ticks\":\"\"},\"caxis\":{\"gridcolor\":\"white\",\"linecolor\":\"white\",\"ticks\":\"\"}},\"coloraxis\":{\"colorbar\":{\"outlinewidth\":0,\"ticks\":\"\"}},\"colorscale\":{\"sequential\":[[0.0,\"#0d0887\"],[0.1111111111111111,\"#46039f\"],[0.2222222222222222,\"#7201a8\"],[0.3333333333333333,\"#9c179e\"],[0.4444444444444444,\"#bd3786\"],[0.5555555555555556,\"#d8576b\"],[0.6666666666666666,\"#ed7953\"],[0.7777777777777778,\"#fb9f3a\"],[0.8888888888888888,\"#fdca26\"],[1.0,\"#f0f921\"]],\"sequentialminus\":[[0.0,\"#0d0887\"],[0.1111111111111111,\"#46039f\"],[0.2222222222222222,\"#7201a8\"],[0.3333333333333333,\"#9c179e\"],[0.4444444444444444,\"#bd3786\"],[0.5555555555555556,\"#d8576b\"],[0.6666666666666666,\"#ed7953\"],[0.7777777777777778,\"#fb9f3a\"],[0.8888888888888888,\"#fdca26\"],[1.0,\"#f0f921\"]],\"diverging\":[[0,\"#8e0152\"],[0.1,\"#c51b7d\"],[0.2,\"#de77ae\"],[0.3,\"#f1b6da\"],[0.4,\"#fde0ef\"],[0.5,\"#f7f7f7\"],[0.6,\"#e6f5d0\"],[0.7,\"#b8e186\"],[0.8,\"#7fbc41\"],[0.9,\"#4d9221\"],[1,\"#276419\"]]},\"xaxis\":{\"gridcolor\":\"white\",\"linecolor\":\"white\",\"ticks\":\"\",\"title\":{\"standoff\":15},\"zerolinecolor\":\"white\",\"automargin\":true,\"zerolinewidth\":2},\"yaxis\":{\"gridcolor\":\"white\",\"linecolor\":\"white\",\"ticks\":\"\",\"title\":{\"standoff\":15},\"zerolinecolor\":\"white\",\"automargin\":true,\"zerolinewidth\":2},\"scene\":{\"xaxis\":{\"backgroundcolor\":\"#E5ECF6\",\"gridcolor\":\"white\",\"linecolor\":\"white\",\"showbackground\":true,\"ticks\":\"\",\"zerolinecolor\":\"white\",\"gridwidth\":2},\"yaxis\":{\"backgroundcolor\":\"#E5ECF6\",\"gridcolor\":\"white\",\"linecolor\":\"white\",\"showbackground\":true,\"ticks\":\"\",\"zerolinecolor\":\"white\",\"gridwidth\":2},\"zaxis\":{\"backgroundcolor\":\"#E5ECF6\",\"gridcolor\":\"white\",\"linecolor\":\"white\",\"showbackground\":true,\"ticks\":\"\",\"zerolinecolor\":\"white\",\"gridwidth\":2}},\"shapedefaults\":{\"line\":{\"color\":\"#2a3f5f\"}},\"annotationdefaults\":{\"arrowcolor\":\"#2a3f5f\",\"arrowhead\":0,\"arrowwidth\":1},\"geo\":{\"bgcolor\":\"white\",\"landcolor\":\"#E5ECF6\",\"subunitcolor\":\"white\",\"showland\":true,\"showlakes\":true,\"lakecolor\":\"white\"},\"title\":{\"x\":0.05},\"mapbox\":{\"style\":\"light\"}}},\"xaxis\":{\"anchor\":\"y\",\"domain\":[0.0,1.0],\"title\":{\"text\":\"ticker\"}},\"yaxis\":{\"anchor\":\"x\",\"domain\":[0.0,1.0],\"title\":{\"text\":\"frequency\"}},\"coloraxis\":{\"colorbar\":{\"title\":{\"text\":\"frequency\"}},\"colorscale\":[[0.0,\"#0d0887\"],[0.1111111111111111,\"#46039f\"],[0.2222222222222222,\"#7201a8\"],[0.3333333333333333,\"#9c179e\"],[0.4444444444444444,\"#bd3786\"],[0.5555555555555556,\"#d8576b\"],[0.6666666666666666,\"#ed7953\"],[0.7777777777777778,\"#fb9f3a\"],[0.8888888888888888,\"#fdca26\"],[1.0,\"#f0f921\"]]},\"legend\":{\"tracegroupgap\":0},\"title\":{\"text\":\"House of Reps 2021 Good Investments With Frequent Gain\"},\"barmode\":\"relative\"},                        {\"responsive\": true}                    ).then(function(){\n",
       "                            \n",
       "var gd = document.getElementById('7f43316c-98cc-48a1-b21d-648b1b7469e4');\n",
       "var x = new MutationObserver(function (mutations, observer) {{\n",
       "        var display = window.getComputedStyle(gd).display;\n",
       "        if (!display || display === 'none') {{\n",
       "            console.log([gd, 'removed!']);\n",
       "            Plotly.purge(gd);\n",
       "            observer.disconnect();\n",
       "        }}\n",
       "}});\n",
       "\n",
       "// Listen for the removal of the full notebook cells\n",
       "var notebookContainer = gd.closest('#notebook-container');\n",
       "if (notebookContainer) {{\n",
       "    x.observe(notebookContainer, {childList: true});\n",
       "}}\n",
       "\n",
       "// Listen for the clearing of the current output cell\n",
       "var outputEl = gd.closest('.output');\n",
       "if (outputEl) {{\n",
       "    x.observe(outputEl, {childList: true});\n",
       "}}\n",
       "\n",
       "                        })                };                });            </script>        </div>"
      ]
     },
     "metadata": {},
     "output_type": "display_data"
    }
   ],
   "source": [
    "#import House_Good_Investments_Sorted.csv as dfhgcc\n",
    "#INSEERT PD DATA READ HERE\n",
    "houseGoodInvestmentsFig = px.bar(dfhgcc, x='ticker', y='frequency', title='House of Reps 2021 Good Investments With Frequent Gain', color=\"frequency\", text_auto='.2s')\n",
    "houseGoodInvestmentsFig"
   ]
  },
  {
   "cell_type": "code",
   "execution_count": 54,
   "id": "45cc56c4",
   "metadata": {
    "scrolled": true
   },
   "outputs": [
    {
     "name": "stdout",
     "output_type": "stream",
     "text": [
      "\n",
      "\u001b[2;33m The Best buys are/is:\n",
      " ['AMZN']\n",
      "\n",
      "\u001b[38;2;255;165;0m Great buys are/is:\n",
      " ['IFNNY'] ['GOOG', 'AAPL', 'V', 'WMT']\n",
      "\n",
      "\u001b[2;31m Great buys are/is:\n",
      " ['GOOGL', 'MSFT', 'TSM', 'KTOS', 'SPCE', 'HDS']\n",
      "\n",
      "\u001b[2;35m Very good buys are/is:\n",
      " ['HD', 'VCYT', 'AMGN', 'INTC', 'PYPL', 'BLL', 'BRK.B', 'FB', 'MA', 'PG', 'TSLA', 'BXS', 'BABA', 'MRK', 'WEC', 'D', 'TLRY', 'MCD', 'W']\n",
      "\n",
      "\u001b[2;35;1m Really good buys are:\n",
      " ['COLD', 'DXCM', 'ICUI', 'PHR', 'SITE', 'DIS', 'CFG', 'QCOM', 'SBUX', 'ROP', 'INFO', 'FISV', 'ECL', 'CACI', 'ADBE', 'AAGIY', 'BAC', 'BIIB', 'CHTR', 'CMS', 'COST', 'DASTY', 'EW', 'FDX', 'IBM', 'JNJ', 'LZAGY', 'MSI', 'NSRGY', 'NEM', 'NOC', 'NVDA', 'OKE', 'RIO', 'RHHBY', 'SPGI', 'SAP', 'SGSOY', 'STT', 'SSMXY', 'TFC', 'USB', 'UNH', 'DKNG', 'MCO', 'RSG', 'AM', 'FLEX', 'VIAC', 'ALXN', 'ZOOM', 'BKEP']\n",
      "\n",
      "\u001b[2;34m Pretty good buys are/is:\n",
      " ['SEP', 'DOMO', 'INTL', 'LMT', 'MU', 'TMUS', 'GO', 'DELL', 'CHNG', 'CDW', 'ABT', 'ABBV', 'ACHC', 'ATVI', 'ADDDYY', 'AMD', 'ADYEY', 'A', 'AL', 'ALC', 'ALFVY', 'ADS', 'ALIZY', 'ABEV', 'AMT', 'AWK', 'ANTM', 'AON', 'T', 'ATH', 'ATLKY', 'BAX', 'BBY', 'BA', 'BSX', 'AVGO', 'CDNS', 'CNI', 'CCL', 'CAT', 'SCHW', 'CHKP', 'CHGCY', 'CI', 'XEC', 'CTAS', 'CMCSA', 'CLGX', 'CCK', 'DHR', 'DBSDY', 'DEO', 'FANG', 'DFS', 'DG', 'DXC', 'EMN', 'ETN', 'EMR', 'EHC', 'EPOKY', 'EQIX', 'EXPE', 'XOM', 'FANUY', 'FITB', 'BEN', 'FUPBY', 'GLPI', 'GPN', 'HDB', 'HSIC', 'HRC', 'HSBC', 'HUN', 'IBN', 'IDXXX', 'PODD', 'ISRG', 'ITUB', 'JBL', 'JPM', 'KKR', 'KMTUY', 'KUBTY', 'AIQUY', 'LYV', 'LRLCY', 'LOW', 'LULU', 'LYB', 'MMC', 'MTCH', 'MCHP', 'MS', 'MOS', 'MSCI', 'NTAP', 'NFLX', 'NYT', 'NEE', 'NKE', 'NCLTY', 'NVZMY', 'NUE', 'NVR', 'OKTA', 'OMF', 'ORCL', 'ORLY', 'PH', 'PEP', 'PFE', 'PSX', 'PNGAY', 'PNC', 'PLD', 'RMD', 'ROK', 'SC', 'SLB', 'SBGSY', 'SEE', 'ST', 'SNAP', 'SONVY', 'SIVB', 'SYIEY', 'SYF', 'SNPS', 'TGT', 'TCEHY', 'TMO', 'TOL', 'TRU', 'UBER', 'UNICY', 'UL', 'UNP', 'UPS', 'UNVR', 'VRSK', 'VTRS', 'VMC', 'WBA', 'WLK', 'WMB', 'WYND', 'WH', 'YNDX', 'ZG', 'Z', 'ZTS', 'FNRVGX', 'HII', 'NGLS', 'HAE', '--', 'ADDYY', 'APD', 'BPHSPX', 'CLX', 'HUM', 'LIN', 'RTX', 'VRTX', 'CLYCT', 'LDOS', 'SAIC', 'TMUBMUSD03M', 'ARW', 'CCEP', 'CMP', 'COP', 'F', 'HRL', 'LB', 'MTB', 'PRU', 'PSA', 'VFC', 'WM', 'APPL', 'STZ', 'GTN', 'MCS', 'QCHR', 'SHAK', 'HSIP', 'ENLC', 'NS', 'PBFX', 'USAC', 'USDP', 'GLD', 'COHR', 'KR', 'KMI', 'SPXC', 'BXS$A', 'AMAT', 'DNKN', 'ROKU', 'SJCOG', 'ZBRA', 'SIRI', 'PRAH', 'LH', 'CSGP', 'AME', 'ALOID', 'FCEL', 'PLUG', 'CHD', 'ADI', 'ASML', 'FSLR', 'MJNA', 'ICE', 'CHWY', 'DOCU', 'GM', 'ARNC', 'TDG', 'ZUO', 'BHP', 'EQNR', 'NCMGF', 'WOLWF']\n"
     ]
    }
   ],
   "source": [
    "\n",
    "    keys7 = [k for k, v in my_dict.items() if v==7] \n",
    "    print('\\n\\033[2;33m The Best buys are/is:\\n', keys7)\n",
    "\n",
    "    keys6 = [k for k, v in my_dict.items() if v==6]\n",
    "    keys5 = [k for k, v in my_dict.items() if v==5]\n",
    "    print('\\n\\033[38;2;255;165;0m Great buys are/is:\\n', keys6, keys5)\n",
    "\n",
    "    keys4 = [k for k, v in my_dict.items() if v==4] \n",
    "    print('\\n\\033[2;31m Great buys are/is:\\n', keys4)\n",
    "\n",
    "    keys3 = [k for k, v in my_dict.items() if v==3]\n",
    "    print('\\n\\033[2;35m Very good buys are/is:\\n', keys3)\n",
    "\n",
    "    keys2 = [k for k, v in my_dict.items() if v==2]\n",
    "    print('\\n\\033[2;35;1m Really good buys are:\\n', keys2)\n",
    "\n",
    "    keys1 = [k for k, v in my_dict.items() if v==1]\n",
    "    print('\\n\\033[2;34m Pretty good buys are/is:\\n', keys1)\n"
   ]
  },
  {
   "cell_type": "code",
   "execution_count": null,
   "id": "2306907f",
   "metadata": {},
   "outputs": [],
   "source": [
    "#ideally this kind of visualization could be updated in real time after the completion of a transaction by linking an accessible api link."
   ]
  }
 ],
 "metadata": {
  "kernelspec": {
   "display_name": "Python 3 (ipykernel)",
   "language": "python",
   "name": "python3"
  },
  "language_info": {
   "codemirror_mode": {
    "name": "ipython",
    "version": 3
   },
   "file_extension": ".py",
   "mimetype": "text/x-python",
   "name": "python",
   "nbconvert_exporter": "python",
   "pygments_lexer": "ipython3",
   "version": "3.9.7"
  }
 },
 "nbformat": 4,
 "nbformat_minor": 5
}
